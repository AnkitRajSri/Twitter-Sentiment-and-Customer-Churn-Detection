{
 "cells": [
  {
   "cell_type": "code",
   "execution_count": 5,
   "metadata": {
    "colab": {},
    "colab_type": "code",
    "id": "qdvEpAB2-UrZ"
   },
   "outputs": [],
   "source": [
    "import tweepy\n",
    "import pandas as pd\n",
    "import pickle\n",
    "import os\n",
    "\n",
    "\n",
    "# Authentication\n",
    "consumer_api_key = ''\n",
    "consumer_api_secret_key = ''\n",
    "\n",
    "access_token = ''\n",
    "access_token_secret = ''\n",
    " \n",
    "auth = tweepy.OAuthHandler(consumer_api_key, consumer_api_secret_key)\n",
    "auth.set_access_token(access_token, access_token_secret)\n",
    "api = tweepy.API(auth)\n",
    "api = tweepy.API(auth, wait_on_rate_limit=True, wait_on_rate_limit_notify=True)"
   ]
  },
  {
   "cell_type": "code",
   "execution_count": 6,
   "metadata": {
    "colab": {},
    "colab_type": "code",
    "id": "RJBywCq5-XVF"
   },
   "outputs": [],
   "source": [
    "def getTweets(searchString, df):\n",
    "    for tweet in tweepy.Cursor(api.search, q=searchString, lang='en', since='2020-05-16', until='2020-05-20').items():\n",
    "        df = df.append(pd.Series([tweet.user.screen_name, tweet.created_at, tweet.user.location, tweet.text], index=df.columns), ignore_index=True)\n",
    "        print(df.shape)\n",
    "        df.to_csv('streaming_data.csv')"
   ]
  },
  {
   "cell_type": "code",
   "execution_count": 3,
   "metadata": {
    "colab": {},
    "colab_type": "code",
    "id": "ySKqOfuT-abl"
   },
   "outputs": [],
   "source": [
    "df1 = pd.DataFrame(columns=['screen_name', 'date_time', 'location', 'text'])\n",
    "df3 = pd.DataFrame(columns=['screen_name', 'date_time', 'location', 'text'])\n",
    "df2 = pd.DataFrame(columns=['screen_name', 'date_time', 'location', 'text'])\n",
    "df4 = pd.DataFrame(columns=['screen_name', 'date_time', 'location', 'text'])"
   ]
  },
  {
   "cell_type": "code",
   "execution_count": 7,
   "metadata": {
    "colab": {},
    "colab_type": "code",
    "id": "3TwoABYr-cXY"
   },
   "outputs": [],
   "source": [
    "getTweets('netflix', df1)\n",
    "getTweets('primevideo', df2)\n",
    "getTweets('hulu', df3)\n",
    "getTweets('disneyplus', df4)"
   ]
  },
  {
   "cell_type": "code",
   "execution_count": null,
   "metadata": {},
   "outputs": [],
   "source": []
  }
 ],
 "metadata": {
  "colab": {
   "name": "Untitled0.ipynb",
   "provenance": []
  },
  "kernelspec": {
   "display_name": "Python 3",
   "language": "python",
   "name": "python3"
  },
  "language_info": {
   "codemirror_mode": {
    "name": "ipython",
    "version": 3
   },
   "file_extension": ".py",
   "mimetype": "text/x-python",
   "name": "python",
   "nbconvert_exporter": "python",
   "pygments_lexer": "ipython3",
   "version": "3.7.6"
  }
 },
 "nbformat": 4,
 "nbformat_minor": 1
}
